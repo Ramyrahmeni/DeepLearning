{
  "cells": [
    {
      "cell_type": "markdown",
      "metadata": {
        "id": "view-in-github",
        "colab_type": "text"
      },
      "source": [
        "<a href=\"https://colab.research.google.com/github/Ramyrahmeni/DeepLearning/blob/main/one_P.ipynb\" target=\"_parent\"><img src=\"https://colab.research.google.com/assets/colab-badge.svg\" alt=\"Open In Colab\"/></a>"
      ]
    },
    {
      "cell_type": "code",
      "execution_count": 1,
      "id": "25bbdf19",
      "metadata": {
        "id": "25bbdf19"
      },
      "outputs": [],
      "source": [
        "import numpy as np\n",
        "\n",
        "x = np.random.rand(30, 10)\n"
      ]
    },
    {
      "cell_type": "code",
      "execution_count": 2,
      "id": "d0d1f08d",
      "metadata": {
        "colab": {
          "base_uri": "https://localhost:8080/"
        },
        "id": "d0d1f08d",
        "outputId": "0fc04fb5-7dae-4fe3-8fa4-d0f25f330259"
      },
      "outputs": [
        {
          "output_type": "stream",
          "name": "stdout",
          "text": [
            "(30, 1)\n"
          ]
        }
      ],
      "source": [
        "y=np.random.rand(30,1)\n",
        "y = y.reshape(30, -1)\n",
        "print(y.shape)"
      ]
    },
    {
      "cell_type": "code",
      "execution_count": 3,
      "id": "fce026e9",
      "metadata": {
        "id": "fce026e9"
      },
      "outputs": [],
      "source": [
        "def sigmoid(x):\n",
        "    return  1/(1 + np.exp(-x))"
      ]
    },
    {
      "cell_type": "code",
      "execution_count": 4,
      "id": "71bcab1c",
      "metadata": {
        "id": "71bcab1c"
      },
      "outputs": [],
      "source": [
        "def sigmoid_derivative(x):\n",
        "    s = sigmoid(x)\n",
        "    ds = s*(1-s)\n",
        "    return ds"
      ]
    },
    {
      "cell_type": "code",
      "execution_count": 6,
      "id": "8e50d63e",
      "metadata": {
        "id": "8e50d63e"
      },
      "outputs": [],
      "source": [
        "import numpy as np\n",
        "W= np.random.rand(10,1)\n"
      ]
    },
    {
      "cell_type": "code",
      "execution_count": 7,
      "id": "40285caa",
      "metadata": {
        "colab": {
          "base_uri": "https://localhost:8080/"
        },
        "id": "40285caa",
        "outputId": "7a12e8f5-196c-4a31-b6cc-29f96482daca"
      },
      "outputs": [
        {
          "output_type": "stream",
          "name": "stdout",
          "text": [
            "(10, 1)\n"
          ]
        }
      ],
      "source": [
        "print(W.shape)"
      ]
    },
    {
      "cell_type": "markdown",
      "source": [
        "## Momentum Based Gredient Descent"
      ],
      "metadata": {
        "id": "HAcQySjTE-zv"
      },
      "id": "HAcQySjTE-zv"
    },
    {
      "cell_type": "code",
      "execution_count": 10,
      "id": "e05d4b9a",
      "metadata": {
        "id": "e05d4b9a",
        "collapsed": true
      },
      "outputs": [],
      "source": [
        "import numpy as np\n",
        "\n",
        "b = 0\n",
        "alpha = 0.01\n",
        "beta = 0.9\n",
        "loss = 0.9\n",
        "W = np.random.rand(10, 1)\n",
        "L = []\n",
        "vdb=0\n",
        "vdw = np.zeros_like(W)\n",
        "x = np.random.rand(31, 10)\n",
        "y = np.random.randint(0, 2, size=(31, 1))\n",
        "\n",
        "def sigmoid(z):\n",
        "    return 1 / (1 + np.exp(-z))\n",
        "\n",
        "while loss > 0.001:\n",
        "    c = np.random.choice(range(31))\n",
        "\n",
        "    Z1 = np.matmul(W.T, x[c]) + b\n",
        "\n",
        "    A1 = sigmoid(Z1)\n",
        "    loss = -y[c] * np.log(A1) - (1 - y[c]) * np.log(1 - A1)\n",
        "    loss = loss.item()\n",
        "    dw = (A1 - y[c]) * x[c].reshape(-1, 1)\n",
        "    db = (A1 - y[c])\n",
        "\n",
        "    vdw = beta * vdw + (1 - beta) * dw\n",
        "    vdb = beta * vdb + (1 - beta) * db\n",
        "\n",
        "    L.append(loss)\n",
        "    W = W - alpha * vdw\n",
        "    b = b - alpha * vdb\n"
      ]
    },
    {
      "cell_type": "code",
      "execution_count": 11,
      "id": "eaa9b3e5",
      "metadata": {
        "colab": {
          "base_uri": "https://localhost:8080/",
          "height": 430
        },
        "id": "eaa9b3e5",
        "outputId": "4109fb22-137f-4043-93d7-802ae2fa4cfb"
      },
      "outputs": [
        {
          "output_type": "display_data",
          "data": {
            "text/plain": [
              "<Figure size 640x480 with 1 Axes>"
            ],
            "image/png": "[encoded data removed]"
          },
          "metadata": {}
        }
      ],
      "source": [
        "import matplotlib.pyplot as plt\n",
        "#datasets\n",
        "xx= [i for i in range (len(L))]\n",
        "#L=np.reshape(L,(len(L),-1))\n",
        "#scatter plot for the dataset\n",
        "plt.plot(xx,L)\n",
        "plt.show()"
      ]
    },
    {
      "cell_type": "markdown",
      "source": [
        "## Adam Optimizer"
      ],
      "metadata": {
        "id": "p5TmGRefFGtJ"
      },
      "id": "p5TmGRefFGtJ"
    },
    {
      "cell_type": "code",
      "source": [
        "def compute_gredient(x,y,W,b,L):\n",
        "    c = np.random.choice(range(31))\n",
        "\n",
        "    Z1 = np.matmul(W.T, x[c]) + b\n",
        "\n",
        "    A1 = sigmoid(Z1)\n",
        "    loss = -y[c] * np.log(A1) - (1 - y[c]) * np.log(1 - A1)\n",
        "    loss = loss.item()\n",
        "    L.append(loss)\n",
        "    dw = (A1 - y[c]) * x[c].reshape(-1, 1)\n",
        "    db = (A1 - y[c])\n",
        "    return (dw,db)"
      ],
      "metadata": {
        "id": "Wo_yuwotFWrX"
      },
      "id": "Wo_yuwotFWrX",
      "execution_count": 14,
      "outputs": []
    },
    {
      "cell_type": "code",
      "execution_count": 16,
      "id": "f3cc29d2",
      "metadata": {
        "colab": {
          "base_uri": "https://localhost:8080/"
        },
        "id": "f3cc29d2",
        "outputId": "5e8930b7-eb35-428e-c687-4b57fbc79388"
      },
      "outputs": [
        {
          "output_type": "stream",
          "name": "stderr",
          "text": [
            "<ipython-input-14-f03760762605>:7: RuntimeWarning: divide by zero encountered in log\n",
            "  loss = -y[c] * np.log(A1) - (1 - y[c]) * np.log(1 - A1)\n",
            "<ipython-input-14-f03760762605>:7: RuntimeWarning: invalid value encountered in multiply\n",
            "  loss = -y[c] * np.log(A1) - (1 - y[c]) * np.log(1 - A1)\n"
          ]
        }
      ],
      "source": [
        "num_iterations=10\n",
        "b=0\n",
        "m=0\n",
        "v=0\n",
        "beta1=0.9\n",
        "beta2=0.999\n",
        "W = np.random.rand(10, 1)\n",
        "alpha = 0.01\n",
        "epsilon=0.0001\n",
        "L=[]\n",
        "for t in range(1,250):\n",
        "  g=compute_gredient(x,y,W,b,L)\n",
        "  mw=beta1*m+(1-beta1)*g[0]\n",
        "  vw=beta2*v+(1-beta2)*g[0]**2\n",
        "  mb=beta1*m+(1-beta1)*g[1]\n",
        "  vb=beta2*v+(1-beta2)*g[1]**2\n",
        "  mw_hat=mw/(1-beta1**t)\n",
        "  vw_hat=vw/(1-beta2**t)\n",
        "  W=W-alpha*mw_hat/(vw_hat**2+epsilon)\n",
        "  mb_hat=mb/(1-beta1**t)\n",
        "  vb_hat=vb/(1-beta2**t)\n",
        "  b=b-alpha*mb_hat/(vb_hat**2+epsilon)\n",
        "\n"
      ]
    },
    {
      "cell_type": "code",
      "execution_count": 17,
      "id": "aa502a23",
      "metadata": {
        "colab": {
          "base_uri": "https://localhost:8080/"
        },
        "id": "aa502a23",
        "outputId": "1509cb24-4c08-4096-d534-4a81c205e974"
      },
      "outputs": [
        {
          "output_type": "execute_result",
          "data": {
            "text/plain": [
              "[2.4831858432530827,\n",
              " 3.521073908131244,\n",
              " 0.24423615038270663,\n",
              " 20.19868557256878,\n",
              " 2.1789308159305596e-09,\n",
              " 19.743980541665618,\n",
              " 10.481111762117129,\n",
              " 0.7741868898125175,\n",
              " 11.221701418565388,\n",
              " 0.14518834256414834,\n",
              " 4.672339094160116e-06,\n",
              " 4.671232050416334e-06,\n",
              " 1.7417480436698135e-05,\n",
              " 6.461990297086189e-09,\n",
              " 17.201993465031062,\n",
              " 0.0005339078137987537,\n",
              " 12.410538534801285,\n",
              " 1.134144166762103,\n",
              " 4.821907342198756e-06,\n",
              " 4.506319032972873e-07,\n",
              " 18.522717112116855,\n",
              " 0.014649531560846571,\n",
              " 8.362775016489739,\n",
              " 3.060995970936699,\n",
              " 13.583640869229807,\n",
              " 0.014870556139519056,\n",
              " 0.7348386839664468,\n",
              " 13.219128979440251,\n",
              " 2.1651740040200553,\n",
              " 17.08165042892292,\n",
              " 0.48689201702618595,\n",
              " 19.396568649954975,\n",
              " 1.2319847059189795,\n",
              " 26.04490090574273,\n",
              " 8.8779228301322e-05,\n",
              " 0.40871375330221843,\n",
              " 2.0309717261942257e-09,\n",
              " 23.887038152526276,\n",
              " 15.239570521587606,\n",
              " 0.020927871544483313,\n",
              " 0.03113982441134049,\n",
              " 0.001252951907492657,\n",
              " 0.04152244266599284,\n",
              " 0.052977746410048134,\n",
              " 0.001151885577219986,\n",
              " 3.8658775459313644e-07,\n",
              " 0.00014236933204773018,\n",
              " 11.44055285843169,\n",
              " 13.001501255513713,\n",
              " 1.0921855380323145e-06,\n",
              " 0.0001376222270477051,\n",
              " 2.5880676387039113e-07,\n",
              " 20.454652565516312,\n",
              " 1.8951998026652164,\n",
              " 4.5266642050580335e-05,\n",
              " 1.1054043917802935e-05,\n",
              " 3.1456116038049717e-06,\n",
              " 4.515750336271591e-05,\n",
              " 7.4980198618954265e-06,\n",
              " 1.8450901005037975e-05,\n",
              " 0.05884384748044082,\n",
              " 18.441695577123234,\n",
              " 9.719835446378756,\n",
              " 21.13622724878616,\n",
              " 10.05246738734205,\n",
              " 18.751269369365975,\n",
              " 10.808774560250065,\n",
              " 3.041752067448135e-05,\n",
              " 4.976380733296859e-05,\n",
              " 9.4463882719772,\n",
              " 19.013320724988535,\n",
              " 16.66587397582918,\n",
              " 1.702553537647277e-07,\n",
              " 1.7025388460634908e-07,\n",
              " 9.716418938836405,\n",
              " 17.018826821200243,\n",
              " 1.144103085487608e-08,\n",
              " 12.876764522168045,\n",
              " 13.522459695289708,\n",
              " 10.950396863356852,\n",
              " 5.320436215875573,\n",
              " 1.6861542917940483e-07,\n",
              " 4.3442782713953336e-10,\n",
              " 12.983138304780807,\n",
              " 5.2368137916371375e-05,\n",
              " 1.742193686953257,\n",
              " 12.192021317005887,\n",
              " 0.0026610693389498225,\n",
              " 0.7788113525898334,\n",
              " 11.081718848116076,\n",
              " 3.931910786195935,\n",
              " 4.960055141835416,\n",
              " 0.009643243564377723,\n",
              " 1.1657204602552245,\n",
              " 0.10957810704342807,\n",
              " 4.213764854816037e-05,\n",
              " 9.94048825975375e-09,\n",
              " 3.7285797691657048,\n",
              " 3.6615155352144367e-13,\n",
              " 3.1933276126132316e-07,\n",
              " 6.443309767789551,\n",
              " 31.56863008314402,\n",
              " 1.7130106882290004,\n",
              " nan,\n",
              " 23.988403633321568,\n",
              " 1.1573560791746065,\n",
              " 22.36829950525802,\n",
              " 3.1831766082260763e-07,\n",
              " 0.0002951637150662998,\n",
              " 1.8395655093315177,\n",
              " 17.521985026198337,\n",
              " 6.796647691409876e-10,\n",
              " 0.049054748813195125,\n",
              " 3.491877732667904e-07,\n",
              " 0.0013838967953199045,\n",
              " 2.835251397085054,\n",
              " nan,\n",
              " 22.859711492060452,\n",
              " 0.00015685605476144712,\n",
              " 0.0034021926242357226,\n",
              " 0.010938251901676452,\n",
              " 0.30806746580250793,\n",
              " 4.720139012976149,\n",
              " 9.439560244617484e-12,\n",
              " 0.2377862557344692,\n",
              " 13.734345603158923,\n",
              " 26.9044868365955,\n",
              " 8.593886694066953e-08,\n",
              " 1.6934722392796195e-07,\n",
              " 0.0018127551906507223,\n",
              " 8.629805662285067e-07,\n",
              " 5.568686253628144e-06,\n",
              " 2.3307914514510092e-09,\n",
              " 0.14112709036630625,\n",
              " 0.012489878323847263,\n",
              " 7.76143534891443,\n",
              " 20.32335680558752,\n",
              " 6.9576398355530324,\n",
              " 2.2204460492503136e-16,\n",
              " 7.993605777301159e-15,\n",
              " 4.018582875773591,\n",
              " 0.00841059797562987,\n",
              " 9.230283204473689e-12,\n",
              " 6.972007272486359,\n",
              " nan,\n",
              " 1.1776130420300986e-07,\n",
              " 2.087219286295316e-14,\n",
              " 1.1776078484061777e-07,\n",
              " 1.8274270985331745e-13,\n",
              " 1.1776026570027033e-07,\n",
              " 23.697957941326145,\n",
              " 0.010322321337642413,\n",
              " 0.000916589307845713,\n",
              " 4.646481343094923,\n",
              " 3.8704893903291566,\n",
              " 9.606756230941349,\n",
              " inf,\n",
              " 2.89784186779521e-05,\n",
              " 2.8931868357535008e-05,\n",
              " 0.0025583587800408793,\n",
              " 8.304468224196515e-14,\n",
              " 0.038754336786438796,\n",
              " 3.0920761464267286,\n",
              " 32.48830532762774,\n",
              " 0.0006643071684452789,\n",
              " 8.694868307621055e-09,\n",
              " 6.641864836119586e-11,\n",
              " 8.69486519899656e-09,\n",
              " 1.7633635263494398e-07,\n",
              " 5.044416682387182,\n",
              " 13.99326988504277,\n",
              " 0.7785393995366642,\n",
              " 2.8865798640254113e-15,\n",
              " 1.03694830499995e-13,\n",
              " 6.176790436723987,\n",
              " 15.414278904187418,\n",
              " 44.614987322697345,\n",
              " 23.615733094254153,\n",
              " 1.904048491462779e-05,\n",
              " 5.48268751136421e-06,\n",
              " 3.330669073875475e-15,\n",
              " 0.00018012261010895563,\n",
              " 8.67521483420617e-08,\n",
              " 0.3006123854666701,\n",
              " 2.647491437931286,\n",
              " 4.2127992608656303e-07,\n",
              " 8.869805637739697,\n",
              " 5.830758098738355e-11,\n",
              " 20.903115548180306,\n",
              " 6.185496559415727e-12,\n",
              " 6.740472955305705,\n",
              " 0.008058578690031844,\n",
              " 1.6853185513811297e-13,\n",
              " 2.2204460492503136e-16,\n",
              " 3.7214885035661536,\n",
              " 18.045839554221878,\n",
              " 4.019751199377486e-10,\n",
              " 9.837717005147358,\n",
              " 21.63341188263661,\n",
              " 3.27944817452263e-07,\n",
              " 0.0634560048199702,\n",
              " 0.08986658416458775,\n",
              " 0.005601595096907029,\n",
              " 4.674860421544509e-06,\n",
              " 5.462297281157262e-13,\n",
              " 18.98508981939485,\n",
              " 17.53241222307613,\n",
              " 0.005493965335132585,\n",
              " 12.272565445471725,\n",
              " 27.156415034824015,\n",
              " 18.33164620889907,\n",
              " 23.551192007133757,\n",
              " 1.3686828783173736e-06,\n",
              " 1.0855538690238778e-11,\n",
              " 2.2054749162399077e-09,\n",
              " 2.764455331316678e-14,\n",
              " 1.0480193323686481e-08,\n",
              " 0.0010107118046560769,\n",
              " 0.0002386808928532067,\n",
              " 3.9039327327168726e-11,\n",
              " 29.863636735464585,\n",
              " 15.607408391522391,\n",
              " 18.291813111973987,\n",
              " 22.12257095835096,\n",
              " 16.72239265569707,\n",
              " 1.5543122344752203e-15,\n",
              " 8.881784197001292e-15,\n",
              " 2.5823787552784473e-13,\n",
              " 1.5543122344752203e-15,\n",
              " 4.567457523308937e-13,\n",
              " nan,\n",
              " inf,\n",
              " 32.35082915805541,\n",
              " 34.43421547668306,\n",
              " 23.39500368600427,\n",
              " 2.845857789988085,\n",
              " 0.000792616214700831,\n",
              " 19.549441296666625,\n",
              " 0.022507089423166666,\n",
              " 21.981741452157628,\n",
              " 0.0002332878931586586,\n",
              " -0.0,\n",
              " 2.728169912574961e-10,\n",
              " -0.0,\n",
              " 13.153964054124412,\n",
              " 0.032305692674099315,\n",
              " 0.000583106412245482,\n",
              " 6.8400212394853405e-09,\n",
              " 3.0348631206634732e-05]"
            ]
          },
          "metadata": {},
          "execution_count": 17
        }
      ],
      "source": [
        "L"
      ]
    },
    {
      "cell_type": "code",
      "execution_count": 18,
      "id": "a59c2748",
      "metadata": {
        "colab": {
          "base_uri": "https://localhost:8080/",
          "height": 430
        },
        "id": "a59c2748",
        "outputId": "b6b5254f-0395-480c-b38b-354759387375"
      },
      "outputs": [
        {
          "output_type": "display_data",
          "data": {
            "text/plain": [
              "<Figure size 640x480 with 1 Axes>"
            ],
            "image/png": "[encoded data removed]"
          },
          "metadata": {}
        }
      ],
      "source": [
        "import matplotlib.pyplot as plt\n",
        "#datasets\n",
        "xx= [i for i in range (len(L))]\n",
        "#L=np.reshape(L,(len(L),-1))\n",
        "#scatter plot for the dataset\n",
        "plt.plot(xx,L)\n",
        "plt.show()"
      ]
    },
    {
      "cell_type": "code",
      "source": [],
      "metadata": {
        "id": "akVkaiTvz7NN"
      },
      "id": "akVkaiTvz7NN",
      "execution_count": null,
      "outputs": []
    }
  ],
  "metadata": {
    "kernelspec": {
      "display_name": "Python 3 (ipykernel)",
      "language": "python",
      "name": "python3"
    },
    "language_info": {
      "codemirror_mode": {
        "name": "ipython",
        "version": 3
      },
      "file_extension": ".py",
      "mimetype": "text/x-python",
      "name": "python",
      "nbconvert_exporter": "python",
      "pygments_lexer": "ipython3",
      "version": "3.11.5"
    },
    "colab": {
      "provenance": [],
      "include_colab_link": true
    }
  },
  "nbformat": 4,
  "nbformat_minor": 5
}